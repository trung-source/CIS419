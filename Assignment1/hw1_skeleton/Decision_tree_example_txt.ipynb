{
 "cells": [
  {
   "cell_type": "code",
   "execution_count": 1,
   "id": "38a25697",
   "metadata": {},
   "outputs": [],
   "source": [
    "from sklearn.datasets import load_iris\n",
    "from sklearn.tree import DecisionTreeClassifier\n",
    "from sklearn.tree import export_text"
   ]
  },
  {
   "cell_type": "code",
   "execution_count": 2,
   "id": "60e5c76f",
   "metadata": {},
   "outputs": [],
   "source": [
    "iris = load_iris()"
   ]
  },
  {
   "cell_type": "code",
   "execution_count": 4,
   "id": "cfd8c4f3",
   "metadata": {},
   "outputs": [],
   "source": [
    "decision_tree = DecisionTreeClassifier(random_state=0, max_depth=2)"
   ]
  },
  {
   "cell_type": "code",
   "execution_count": 6,
   "id": "5a5c75d0",
   "metadata": {},
   "outputs": [],
   "source": [
    "decision_tree = decision_tree.fit(iris.data, iris.target)"
   ]
  },
  {
   "cell_type": "code",
   "execution_count": 8,
   "id": "68fb8dd9",
   "metadata": {},
   "outputs": [],
   "source": [
    "r = export_text(decision_tree, feature_names=iris['feature_names'])"
   ]
  },
  {
   "cell_type": "code",
   "execution_count": 9,
   "id": "481e5dc5",
   "metadata": {},
   "outputs": [
    {
     "name": "stdout",
     "output_type": "stream",
     "text": [
      "|--- petal width (cm) <= 0.80\n",
      "|   |--- class: 0\n",
      "|--- petal width (cm) >  0.80\n",
      "|   |--- petal width (cm) <= 1.75\n",
      "|   |   |--- class: 1\n",
      "|   |--- petal width (cm) >  1.75\n",
      "|   |   |--- class: 2\n",
      "\n"
     ]
    }
   ],
   "source": [
    "print(r)"
   ]
  },
  {
   "cell_type": "code",
   "execution_count": null,
   "id": "e5373f73",
   "metadata": {},
   "outputs": [],
   "source": []
  }
 ],
 "metadata": {
  "kernelspec": {
   "display_name": "Python 3 (ipykernel)",
   "language": "python",
   "name": "python3"
  },
  "language_info": {
   "codemirror_mode": {
    "name": "ipython",
    "version": 3
   },
   "file_extension": ".py",
   "mimetype": "text/x-python",
   "name": "python",
   "nbconvert_exporter": "python",
   "pygments_lexer": "ipython3",
   "version": "3.8.10"
  }
 },
 "nbformat": 4,
 "nbformat_minor": 5
}
